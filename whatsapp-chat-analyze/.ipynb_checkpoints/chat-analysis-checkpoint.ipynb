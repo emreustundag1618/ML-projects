{
 "cells": [
  {
   "cell_type": "code",
   "execution_count": 2,
   "id": "722e41cd-b5f6-4645-bbb6-f04423080c85",
   "metadata": {},
   "outputs": [
    {
     "name": "stdout",
     "output_type": "stream",
     "text": [
      "Collecting emoji\n",
      "  Downloading emoji-2.0.0.tar.gz (197 kB)\n",
      "Building wheels for collected packages: emoji\n",
      "  Building wheel for emoji (setup.py): started\n",
      "  Building wheel for emoji (setup.py): finished with status 'done'\n",
      "  Created wheel for emoji: filename=emoji-2.0.0-py3-none-any.whl size=193022 sha256=d9c78c4532e6cc63c1422bda19b76c0beef259a4db9aa0b9b8e8441a77e1119d\n",
      "  Stored in directory: c:\\users\\asus\\appdata\\local\\pip\\cache\\wheels\\0e\\d1\\c5\\63b511b700c9da5a62bbfc758dd4a3fd9541df51b5db0694b0\n",
      "Successfully built emoji\n",
      "Installing collected packages: emoji\n",
      "Successfully installed emoji-2.0.0\n"
     ]
    }
   ],
   "source": [
    "!pip install emoji"
   ]
  },
  {
   "cell_type": "code",
   "execution_count": 3,
   "id": "14872eb6-0697-44d3-ad17-51091ea2f92d",
   "metadata": {},
   "outputs": [],
   "source": [
    "import regex\n",
    "import pandas as pd\n",
    "import numpy as np\n",
    "import emoji\n",
    "from collections import Counter\n",
    "import matplotlib.pyplot as plt\n",
    "from wordcloud import WordCloud, STOPWORDS, ImageColorGenerator"
   ]
  },
  {
   "cell_type": "code",
   "execution_count": 49,
   "id": "25b11e6e-c3e4-408d-9ff6-870aa55c2b9e",
   "metadata": {},
   "outputs": [],
   "source": [
    "def date_time(line):\n",
    "    pattern = \"^([0-9]+)(\\.)([0-9]+)(\\.)([0-9]+), ([0-9]+)(\\:)([0-9]+)(\\:)([0-9]+)[ ]\"\n",
    "    result = regex.match(pattern, line)\n",
    "    if result:\n",
    "        return True\n",
    "    return False"
   ]
  },
  {
   "cell_type": "code",
   "execution_count": 19,
   "id": "10d19246-4f6e-465b-8467-706b658b0949",
   "metadata": {},
   "outputs": [],
   "source": [
    "def find_author(message):\n",
    "    message = message.split(\"]\")\n",
    "    if len(message) == 2:\n",
    "        return True\n",
    "    return False"
   ]
  },
  {
   "cell_type": "code",
   "execution_count": 20,
   "id": "dc57d4c3-9432-4b5e-a65a-dfbc2eae8183",
   "metadata": {},
   "outputs": [],
   "source": [
    "def getDatapoint(line):\n",
    "    splitline = line.split(\" - \")\n",
    "    dateTime = splitline[0]\n",
    "    date, time = dateTime.split(\", \")\n",
    "    message = \" \".join(splitline[1:])\n",
    "    if find_author(message):\n",
    "        splitmessage = message.split(\": \")\n",
    "        author = splitmessage[0]\n",
    "        message = \" \".join(splitmessage[1:])\n",
    "    else:\n",
    "        author = None\n",
    "    return date, time, author, message"
   ]
  },
  {
   "cell_type": "code",
   "execution_count": 21,
   "id": "0f7f7d93-dd6d-4de3-86f1-9b4afea165ed",
   "metadata": {},
   "outputs": [],
   "source": [
    "data = []\n",
    "conversation = \"_chat.txt\"\n",
    "with open(conversation, encoding = \"utf-8\") as fp:\n",
    "    fp.readline()\n",
    "    messageBuffer = []\n",
    "    date, time, author = None, None, None\n",
    "    while True:\n",
    "        line = fp.readline()\n",
    "        if not line:\n",
    "            break\n",
    "        line = line.strip()\n",
    "        if date_time(line):\n",
    "            if len(messageBuffer) > 0:\n",
    "                data.append([date, time, author, \" \".join(messageBuffer)])\n",
    "            messageBuffer.clear()\n",
    "            date, time, author, message = getDatapoint(line)\n",
    "            messageBuffer.append(message)\n",
    "        else:\n",
    "            messageBuffer.append(line)"
   ]
  },
  {
   "cell_type": "code",
   "execution_count": 40,
   "id": "ecb5218e-f914-42a9-91bf-e7617c3e866b",
   "metadata": {},
   "outputs": [
    {
     "data": {
      "text/plain": [
       "['[21.09.2017 10:40:08',\n",
       " ' Emre Üstündağ: Bunlardan hangilerini yapabiliriz kek']"
      ]
     },
     "execution_count": 43,
     "metadata": {},
     "output_type": "execute_result"
    }
   ],
   "source": [
    "\"[21.09.2017 10:40:08] Emre Üstündağ: Bunlardan hangilerini yapabiliriz kek\")"
   ]
  },
  {
   "cell_type": "code",
   "execution_count": 51,
   "id": "13d3a9ce-8f71-43cd-93aa-996767f20484",
   "metadata": {},
   "outputs": [
    {
     "data": {
      "text/plain": [
       "False"
      ]
     },
     "execution_count": 51,
     "metadata": {},
     "output_type": "execute_result"
    }
   ],
   "source": [
    "date_time(\"21.09.2017 10:40:08\")"
   ]
  },
  {
   "cell_type": "code",
   "execution_count": null,
   "id": "0732bbc1-63f6-4888-ae9c-6a6fda8473bb",
   "metadata": {},
   "outputs": [],
   "source": []
  }
 ],
 "metadata": {
  "kernelspec": {
   "display_name": "Python 3 (ipykernel)",
   "language": "python",
   "name": "python3"
  },
  "language_info": {
   "codemirror_mode": {
    "name": "ipython",
    "version": 3
   },
   "file_extension": ".py",
   "mimetype": "text/x-python",
   "name": "python",
   "nbconvert_exporter": "python",
   "pygments_lexer": "ipython3",
   "version": "3.9.12"
  }
 },
 "nbformat": 4,
 "nbformat_minor": 5
}
