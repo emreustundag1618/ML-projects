{
 "cells": [
  {
   "cell_type": "code",
   "execution_count": 15,
   "id": "d81b22b8-a7c4-44a2-b0e2-c640ad0e6cd8",
   "metadata": {},
   "outputs": [],
   "source": [
    "# AlexNet implementationu using keras lib\n",
    "import keras\n",
    "from keras.models import Sequential, Model\n",
    "from tensorflow.python.keras.models import Input\n",
    "from keras.layers import Dense, Dropout, Flatten, LeakyReLU\n",
    "from keras.layers import Conv2D, MaxPooling2D\n",
    "import tensorflow as tf\n",
    "from tensorflow import keras\n",
    "import keras.layers as layers"
   ]
  },
  {
   "cell_type": "code",
   "execution_count": 16,
   "id": "2bd04ca5-e253-4a48-aa09-a7d826454993",
   "metadata": {},
   "outputs": [],
   "source": [
    "model = Sequential()"
   ]
  },
  {
   "cell_type": "code",
   "execution_count": 17,
   "id": "38d4c408-7f32-4e6a-ba98-d26ff1399099",
   "metadata": {},
   "outputs": [],
   "source": [
    "model.add(layers.Conv2D(filters = 96, kernel_size = (11, 11), strides = (4, 4), activation = \"relu\", input_shape = (227, 227, 3)))\n",
    "model.add(layers.BatchNormalization())\n",
    "model.add(layers.MaxPool2D(pool_size = (3, 3), strides = (2, 2)))\n",
    "model.add(layers.Conv2D(filters = 256, kernel_size = (5, 5), strides = (1,1), padding = \"same\", activation = \"relu\"))\n",
    "model.add(layers.BatchNormalization())\n",
    "model.add(layers.MaxPool2D(pool_size = (3, 3), strides = (2, 2)))\n",
    "model.add(layers.Conv2D(filters = 384, kernel_size = (3, 3), strides = (1, 1), padding = \"same\", activation = \"relu\"))\n",
    "model.add(layers.BatchNormalization())\n",
    "model.add(layers.Conv2D(filters = 384, kernel_size = (3, 3), strides = (1, 1), padding = \"same\", activation = \"relu\"))\n",
    "model.add(layers.BatchNormalization())\n",
    "model.add(layers.Conv2D(filters = 256, kernel_size = (3, 3), strides = (1, 1), padding = \"same\", activation = \"relu\"))\n",
    "model.add(layers.BatchNormalization())\n",
    "model.add(layers.MaxPool2D(pool_size = (6, 6), strides = (2, 2)))\n",
    "model.add(layers.Flatten())\n",
    "model.add(layers.Dense(4096, activation = \"relu\"))\n",
    "model.add(layers.Dropout(0.5))\n",
    "model.add(layers.Dense(1000, activation = \"relu\"))  # 1000 for imagenet"
   ]
  },
  {
   "cell_type": "code",
   "execution_count": 18,
   "id": "5e2b57e2-a548-4c86-8788-da85ca3c49ad",
   "metadata": {},
   "outputs": [
    {
     "name": "stdout",
     "output_type": "stream",
     "text": [
      "Model: \"sequential_2\"\n",
      "_________________________________________________________________\n",
      " Layer (type)                Output Shape              Param #   \n",
      "=================================================================\n",
      " conv2d_11 (Conv2D)          (None, 55, 55, 96)        34944     \n",
      "                                                                 \n",
      " batch_normalization_7 (Batc  (None, 55, 55, 96)       384       \n",
      " hNormalization)                                                 \n",
      "                                                                 \n",
      " max_pooling2d_5 (MaxPooling  (None, 27, 27, 96)       0         \n",
      " 2D)                                                             \n",
      "                                                                 \n",
      " conv2d_12 (Conv2D)          (None, 27, 27, 256)       614656    \n",
      "                                                                 \n",
      " batch_normalization_8 (Batc  (None, 27, 27, 256)      1024      \n",
      " hNormalization)                                                 \n",
      "                                                                 \n",
      " max_pooling2d_6 (MaxPooling  (None, 13, 13, 256)      0         \n",
      " 2D)                                                             \n",
      "                                                                 \n",
      " conv2d_13 (Conv2D)          (None, 13, 13, 384)       885120    \n",
      "                                                                 \n",
      " batch_normalization_9 (Batc  (None, 13, 13, 384)      1536      \n",
      " hNormalization)                                                 \n",
      "                                                                 \n",
      " conv2d_14 (Conv2D)          (None, 13, 13, 384)       1327488   \n",
      "                                                                 \n",
      " batch_normalization_10 (Bat  (None, 13, 13, 384)      1536      \n",
      " chNormalization)                                                \n",
      "                                                                 \n",
      " conv2d_15 (Conv2D)          (None, 13, 13, 256)       884992    \n",
      "                                                                 \n",
      " batch_normalization_11 (Bat  (None, 13, 13, 256)      1024      \n",
      " chNormalization)                                                \n",
      "                                                                 \n",
      " max_pooling2d_7 (MaxPooling  (None, 4, 4, 256)        0         \n",
      " 2D)                                                             \n",
      "                                                                 \n",
      " flatten_1 (Flatten)         (None, 4096)              0         \n",
      "                                                                 \n",
      " dense_3 (Dense)             (None, 4096)              16781312  \n",
      "                                                                 \n",
      " dropout_2 (Dropout)         (None, 4096)              0         \n",
      "                                                                 \n",
      " dense_4 (Dense)             (None, 1000)              4097000   \n",
      "                                                                 \n",
      "=================================================================\n",
      "Total params: 24,631,016\n",
      "Trainable params: 24,628,264\n",
      "Non-trainable params: 2,752\n",
      "_________________________________________________________________\n"
     ]
    }
   ],
   "source": [
    "model.summary()"
   ]
  }
 ],
 "metadata": {
  "kernelspec": {
   "display_name": "Python 3 (ipykernel)",
   "language": "python",
   "name": "python3"
  },
  "language_info": {
   "codemirror_mode": {
    "name": "ipython",
    "version": 3
   },
   "file_extension": ".py",
   "mimetype": "text/x-python",
   "name": "python",
   "nbconvert_exporter": "python",
   "pygments_lexer": "ipython3",
   "version": "3.9.12"
  }
 },
 "nbformat": 4,
 "nbformat_minor": 5
}
